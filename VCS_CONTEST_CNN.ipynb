{
  "cells": [
    {
      "cell_type": "markdown",
      "metadata": {
        "id": "p9RmUkhLedEx"
      },
      "source": [
        "# **CNN Contest**\n",
        "\n",
        "Previous networks do not perform well on CIFAR-10 dataset. Design your own architecture (based on MLPs) and set the corresponding hyper-parameters in order to achieve better performance on the test set. Some parameters to focus on are listed below:\n",
        "\n",
        "#### *Network's parameters*:\n",
        "\n",
        "- Number of layers;\n",
        "- Number of neurons per layer;\n",
        "- Activation functions;\n",
        "- Weights initialization;\n",
        "- Dropout Rate.\n",
        "\n",
        "#### *Training parameters*:\n",
        "- Learning rate;\n",
        "- Number of epochs;\n",
        "- Optimizer;\n",
        "- Batch size.\n",
        "\n",
        "#### *Data*:\n",
        "- Data augmentation.\n",
        "\n",
        "You can also use different training techniques (e.g., early stopping, LR schedule) or consider ensemble methods.\n",
        "\n",
        "#### *Pre-trained networks*:\n",
        "- Use different pre-trained networks."
      ]
    },
    {
      "cell_type": "code",
      "execution_count": 1,
      "metadata": {
        "id": "ZBeUY3Ls5Vv4"
      },
      "outputs": [],
      "source": [
        "# Pytorch functions\n",
        "import torch\n",
        "# Neural network layers\n",
        "import torch.nn as nn\n",
        "import torch.nn.functional as F\n",
        "# Optimizer\n",
        "import torch.optim as optim\n",
        "# Handling dataset\n",
        "import torch.utils.data as data\n",
        "# Torchvision library\n",
        "import torchvision\n",
        "\n",
        "import matplotlib.pyplot as plt\n",
        "import random\n",
        "import numpy as np\n",
        "import copy\n",
        "import time\n",
        "import os\n",
        "import cv2\n",
        "# For results\n",
        "from sklearn.metrics import confusion_matrix\n",
        "from sklearn.metrics import classification_report"
      ]
    },
    {
      "cell_type": "code",
      "execution_count": 2,
      "metadata": {
        "id": "JAIhCfyG6MGf"
      },
      "outputs": [],
      "source": [
        "device = torch.device('cuda' if torch.cuda.is_available() else 'cpu')"
      ]
    },
    {
      "cell_type": "code",
      "execution_count": 3,
      "metadata": {
        "id": "QVP1W6Sw5WQJ"
      },
      "outputs": [],
      "source": [
        "def set_seed(seed, use_gpu = True):\n",
        "    \"\"\"\n",
        "    Set SEED for PyTorch reproducibility\n",
        "    \"\"\"\n",
        "    random.seed(seed)\n",
        "    np.random.seed(seed)\n",
        "    torch.manual_seed(seed)\n",
        "    if use_gpu:\n",
        "        torch.cuda.manual_seed_all(seed)\n",
        "        torch.cuda.manual_seed(seed)\n",
        "        torch.backends.cudnn.deterministic = True\n",
        "        torch.backends.cudnn.benchmark = False\n",
        "\n",
        "SEED = 44\n",
        "\n",
        "USE_SEED = False\n",
        "\n",
        "if USE_SEED:\n",
        "    set_seed(SEED, torch.cuda.is_available())"
      ]
    },
    {
      "cell_type": "code",
      "execution_count": 4,
      "metadata": {
        "id": "bSvAKuhk6AgG"
      },
      "outputs": [],
      "source": [
        "def create_validation_set(train_data, train_percentage, test_transforms):\n",
        "\n",
        "  # Split train data into train and validation sets\n",
        "  # (10% of training set will be used as validation set)\n",
        "  num_train_examples = int(len(train_data) * train_percentage)\n",
        "  num_valid_examples = len(train_data) - num_train_examples\n",
        "\n",
        "  # Create 'Subset' objects\n",
        "  train_data, valid_data = data.random_split(train_data, [num_train_examples, num_valid_examples])\n",
        "\n",
        "  print(f\"Number training examples: {len(train_data)}\")\n",
        "  print(f\"Number validation examples: {len(valid_data)}\")\n",
        "\n",
        "  # Apply test transformations to the validation set\n",
        "  valid_data = copy.deepcopy(valid_data) # If we change train transformations, this won't affect the validation set\n",
        "  valid_data.dataset.transform = test_transforms\n",
        "\n",
        "  return valid_data"
      ]
    },
    {
      "cell_type": "code",
      "execution_count": 5,
      "metadata": {
        "id": "wt25TwYR5Xv9"
      },
      "outputs": [],
      "source": [
        "def train(model, iterator, optimizer, criterion, device):\n",
        "  epoch_loss = 0\n",
        "  epoch_acc = 0\n",
        "\n",
        "  # Train mode\n",
        "  model.train()\n",
        "\n",
        "  for (x,y) in iterator:\n",
        "    x = x.to(device)\n",
        "    y = y.to(device)\n",
        "    # Set gradients to zero\n",
        "    optimizer.zero_grad()\n",
        "\n",
        "    # Make Predictions\n",
        "    y_pred = model(x)\n",
        "\n",
        "    # Compute loss\n",
        "    loss = criterion(y_pred, y)\n",
        "\n",
        "    # Compute accuracy\n",
        "    acc = calculate_accuracy(y_pred, y)\n",
        "\n",
        "    # Backprop\n",
        "    loss.backward()\n",
        "\n",
        "    # Apply optimizer\n",
        "    optimizer.step()\n",
        "\n",
        "    # Extract data from loss and accuracy\n",
        "    epoch_loss += loss.item()\n",
        "    epoch_acc += acc.item()\n",
        "\n",
        "  return epoch_loss/len(iterator), epoch_acc/len(iterator)"
      ]
    },
    {
      "cell_type": "code",
      "execution_count": 6,
      "metadata": {
        "id": "AXTXVJwC5fFA"
      },
      "outputs": [],
      "source": [
        "def evaluate(model, iterator, criterion, device):\n",
        "  epoch_loss = 0\n",
        "  epoch_acc = 0\n",
        "\n",
        "  # Evaluation mode\n",
        "  model.eval()\n",
        "\n",
        "  # Do not compute gradients\n",
        "  with torch.no_grad():\n",
        "\n",
        "    for(x,y) in iterator:\n",
        "\n",
        "      x = x.to(device)\n",
        "      y = y.to(device)\n",
        "\n",
        "      # Make Predictions\n",
        "      y_pred = model(x)\n",
        "\n",
        "      # Compute loss\n",
        "      loss = criterion(y_pred, y)\n",
        "\n",
        "      # Compute accuracy\n",
        "      acc = calculate_accuracy(y_pred, y)\n",
        "\n",
        "      # Extract data from loss and accuracy\n",
        "      epoch_loss += loss.item()\n",
        "      epoch_acc += acc.item()\n",
        "\n",
        "  return epoch_loss/len(iterator), epoch_acc/len(iterator)"
      ]
    },
    {
      "cell_type": "code",
      "execution_count": 7,
      "metadata": {
        "id": "9ycLZGsB5gpQ"
      },
      "outputs": [],
      "source": [
        "def calculate_accuracy(y_pred, y):\n",
        "  '''\n",
        "  Compute accuracy from ground-truth and predicted labels.\n",
        "\n",
        "  Input\n",
        "  ------\n",
        "  y_pred: torch.Tensor [BATCH_SIZE, N_LABELS]\n",
        "  y: torch.Tensor [BATCH_SIZE]\n",
        "\n",
        "  Output\n",
        "  ------\n",
        "  acc: float\n",
        "    Accuracy\n",
        "  '''\n",
        "  y_prob = F.softmax(y_pred, dim = -1)\n",
        "  y_pred = y_pred.argmax(dim=1, keepdim = True)\n",
        "  correct = y_pred.eq(y.view_as(y_pred)).sum()\n",
        "  acc = correct.float()/y.shape[0]\n",
        "  return acc"
      ]
    },
    {
      "cell_type": "code",
      "execution_count": 8,
      "metadata": {
        "id": "pQY5PDFL5i87"
      },
      "outputs": [],
      "source": [
        "def model_training(n_epochs, model, train_iterator, valid_iterator, optimizer, criterion, device, model_name='best_model.pt'):\n",
        "\n",
        "  # Initialize validation loss\n",
        "  best_valid_loss = float('inf')\n",
        "\n",
        "  # Save output losses, accs\n",
        "  train_losses = []\n",
        "  train_accs = []\n",
        "  valid_losses = []\n",
        "  valid_accs = []\n",
        "\n",
        "  # Loop over epochs\n",
        "  for epoch in range(n_epochs):\n",
        "    start_time = time.time()\n",
        "    # Train\n",
        "    train_loss, train_acc = train(model, train_iterator, optimizer, criterion, device)\n",
        "    # Validation\n",
        "    valid_loss, valid_acc = evaluate(model, valid_iterator, criterion, device)\n",
        "    # Save best model\n",
        "    if valid_loss < best_valid_loss:\n",
        "      best_valid_loss = valid_loss\n",
        "      # Save model\n",
        "      torch.save(model.state_dict(), model_name)\n",
        "    end_time = time.time()\n",
        "\n",
        "    print(f\"\\nEpoch: {epoch+1}/{n_epochs} -- Epoch Time: {end_time-start_time:.2f} s\")\n",
        "    print(\"---------------------------------\")\n",
        "    print(f\"Train -- Loss: {train_loss:.3f}, Acc: {train_acc * 100:.2f}%\")\n",
        "    print(f\"Val -- Loss: {valid_loss:.3f}, Acc: {valid_acc * 100:.2f}%\")\n",
        "\n",
        "    # Save\n",
        "    train_losses.append(train_loss)\n",
        "    train_accs.append(train_acc)\n",
        "    valid_losses.append(valid_loss)\n",
        "    valid_accs.append(valid_acc)\n",
        "\n",
        "  return train_losses, train_accs, valid_losses, valid_accs"
      ]
    },
    {
      "cell_type": "code",
      "execution_count": 9,
      "metadata": {
        "id": "d9IiAOY85ler"
      },
      "outputs": [],
      "source": [
        "def plot_results(n_epochs, train_losses, train_accs, valid_losses, valid_accs):\n",
        "  N_EPOCHS = n_epochs\n",
        "  # Plot results\n",
        "  plt.figure(figsize=(20, 6))\n",
        "  _ = plt.subplot(1,2,1)\n",
        "  plt.plot(np.arange(N_EPOCHS)+1, train_losses, linewidth=3)\n",
        "  plt.plot(np.arange(N_EPOCHS)+1, valid_losses, linewidth=3)\n",
        "  _ = plt.legend(['Train', 'Validation'])\n",
        "  plt.grid('on'), plt.xlabel('Epoch'), plt.ylabel('Loss')\n",
        "\n",
        "  _ = plt.subplot(1,2,2)\n",
        "  plt.plot(np.arange(N_EPOCHS)+1, train_accs, linewidth=3)\n",
        "  plt.plot(np.arange(N_EPOCHS)+1, valid_accs, linewidth=3)\n",
        "  _ = plt.legend(['Train', 'Validation'])\n",
        "  plt.grid('on'), plt.xlabel('Epoch'), plt.ylabel('Accuracy')"
      ]
    },
    {
      "cell_type": "code",
      "execution_count": 10,
      "metadata": {
        "id": "Jhwl7M2i5nyz"
      },
      "outputs": [],
      "source": [
        "def model_testing(model, test_iterator, criterion, device, model_name='best_model.pt'):\n",
        "  # Test model\n",
        "  model.load_state_dict(torch.load(model_name))\n",
        "  test_loss, test_acc = evaluate(model, test_iterator, criterion, device)\n",
        "  print(f\"Test -- Loss: {test_loss:.3f}, Acc: {test_acc * 100:.2f} %\")"
      ]
    },
    {
      "cell_type": "code",
      "execution_count": 11,
      "metadata": {
        "id": "ZanwyLvu5p8w"
      },
      "outputs": [],
      "source": [
        "def predict(model, iterator, device):\n",
        "\n",
        "  # Evaluation mode\n",
        "  model.eval()\n",
        "\n",
        "  labels = []\n",
        "  pred = []\n",
        "\n",
        "  with torch.no_grad():\n",
        "    for (x, y) in iterator:\n",
        "      x = x.to(device)\n",
        "      y_pred = model(x)\n",
        "\n",
        "      # Get label with highest score\n",
        "      y_prob = F.softmax(y_pred, dim = -1)\n",
        "      top_pred = y_prob.argmax(1, keepdim=True)\n",
        "\n",
        "      labels.append(y.cpu())\n",
        "      pred.append(top_pred.cpu())\n",
        "\n",
        "  labels = torch.cat(labels, dim=0)\n",
        "  pred = torch.cat(pred, dim=0)\n",
        "\n",
        "  return labels, pred\n"
      ]
    },
    {
      "cell_type": "code",
      "execution_count": 12,
      "metadata": {
        "id": "KWwyiCHW5roT"
      },
      "outputs": [],
      "source": [
        "def print_report(model, test_iterator, device):\n",
        "  labels, pred = predict(model, test_iterator, device)\n",
        "  print(confusion_matrix(labels, pred))\n",
        "  print(\"\\n\")\n",
        "  print(classification_report(labels, pred))"
      ]
    },
    {
      "cell_type": "code",
      "execution_count": 13,
      "metadata": {
        "colab": {
          "base_uri": "https://localhost:8080/"
        },
        "id": "8WoBz81o43Td",
        "outputId": "57a6aa3c-3b4a-483f-a6ab-7402a2b5ed7f"
      },
      "outputs": [
        {
          "name": "stdout",
          "output_type": "stream",
          "text": [
            "Downloading https://www.cs.toronto.edu/~kriz/cifar-10-python.tar.gz to ./data/cifar-10-python.tar.gz\n"
          ]
        },
        {
          "name": "stderr",
          "output_type": "stream",
          "text": [
            "100%|██████████| 170M/170M [00:05<00:00, 30.3MB/s]\n"
          ]
        },
        {
          "name": "stdout",
          "output_type": "stream",
          "text": [
            "Extracting ./data/cifar-10-python.tar.gz to ./data\n"
          ]
        }
      ],
      "source": [
        "# Load CIFAR10 dataset\n",
        "# Available datasets at https://pytorch.org/vision/stable/datasets.html\n",
        "ROOT = './data'\n",
        "train_data = torchvision.datasets.CIFAR10(root=ROOT, train=True, download=True)"
      ]
    },
    {
      "cell_type": "code",
      "execution_count": 14,
      "metadata": {
        "id": "ykLvg1x944wl"
      },
      "outputs": [],
      "source": [
        "# Normalize CIFAR10 (using values found on the internet to be better)\n",
        "mean_imagenet = [0.4914, 0.4822, 0.4465] #[0.485, 0.456, 0.406]\n",
        "std_imagenet = [0.2470, 0.2435, 0.2616] #[0.229, 0.224, 0.225]"
      ]
    },
    {
      "cell_type": "code",
      "execution_count": 15,
      "metadata": {
        "id": "fjhsaqwc47Ze"
      },
      "outputs": [],
      "source": [
        "# Compositions of transformations\n",
        "# WE USE DATA AUGMENTATION !\n",
        "train_transforms = torchvision.transforms.Compose([\n",
        "                                                   torchvision.transforms.RandomCrop(size = 32, padding=4), # random cropping of 32x32 after zero padding by 4 (i.e then on 40x40 image)\n",
        "                                                   torchvision.transforms.RandomHorizontalFlip(p=0.5), # 50% of horizontal flip\n",
        "                                                   torchvision.transforms.ToTensor(), # values are normalized between 0 and 1\n",
        "                                                   torchvision.transforms.Normalize(mean_imagenet, std_imagenet)\n",
        "])\n",
        "\n",
        "\n",
        "\n",
        "\n",
        "test_transforms = torchvision.transforms.Compose([\n",
        "                                                  torchvision.transforms.ToTensor(),\n",
        "                                                  torchvision.transforms.Normalize(mean_imagenet, std_imagenet)\n",
        "])"
      ]
    },
    {
      "cell_type": "code",
      "execution_count": 16,
      "metadata": {
        "colab": {
          "base_uri": "https://localhost:8080/"
        },
        "id": "jHjVR37J48tF",
        "outputId": "fed92269-d614-4538-aa70-f429fe01e1ed"
      },
      "outputs": [
        {
          "name": "stdout",
          "output_type": "stream",
          "text": [
            "Files already downloaded and verified\n",
            "Files already downloaded and verified\n",
            "Dataset CIFAR10\n",
            "    Number of datapoints: 50000\n",
            "    Root location: ./data\n",
            "    Split: Train\n",
            "    StandardTransform\n",
            "Transform: Compose(\n",
            "               RandomCrop(size=(32, 32), padding=4)\n",
            "               RandomHorizontalFlip(p=0.5)\n",
            "               ToTensor()\n",
            "               Normalize(mean=[0.4914, 0.4822, 0.4465], std=[0.247, 0.2435, 0.2616])\n",
            "           )\n",
            "Dataset CIFAR10\n",
            "    Number of datapoints: 10000\n",
            "    Root location: ./data\n",
            "    Split: Test\n",
            "    StandardTransform\n",
            "Transform: Compose(\n",
            "               ToTensor()\n",
            "               Normalize(mean=[0.4914, 0.4822, 0.4465], std=[0.247, 0.2435, 0.2616])\n",
            "           )\n"
          ]
        }
      ],
      "source": [
        "# Load data with transformations\n",
        "train_data = torchvision.datasets.CIFAR10(root=ROOT,\n",
        "                                        train=True,\n",
        "                                        download=True,\n",
        "                                        transform=train_transforms)\n",
        "\n",
        "test_data = torchvision.datasets.CIFAR10(root=ROOT,\n",
        "                                        train=False,\n",
        "                                        download=True,\n",
        "                                        transform=test_transforms)\n",
        "print(train_data)\n",
        "print(test_data)"
      ]
    },
    {
      "cell_type": "code",
      "execution_count": 17,
      "metadata": {
        "colab": {
          "base_uri": "https://localhost:8080/"
        },
        "id": "jVoEeL4J49Wu",
        "outputId": "4a6a29d1-3353-47ed-d6a5-974c313f80ff"
      },
      "outputs": [
        {
          "name": "stdout",
          "output_type": "stream",
          "text": [
            "Number training examples: 40000\n",
            "Number validation examples: 10000\n"
          ]
        }
      ],
      "source": [
        "valid_data = create_validation_set(train_data, 0.8, test_transforms) # SMALLER VALIDATION SET"
      ]
    },
    {
      "cell_type": "code",
      "execution_count": 18,
      "metadata": {
        "id": "7neLjdw04_Et"
      },
      "outputs": [],
      "source": [
        "# Create iterators\n",
        "BATCH_SIZE = 128\n",
        "\n",
        "train_iterator = torch.utils.data.DataLoader(train_data,\n",
        "                                             shuffle=True,\n",
        "                                             batch_size=BATCH_SIZE)\n",
        "\n",
        "valid_iterator = torch.utils.data.DataLoader(valid_data,\n",
        "                                             batch_size=BATCH_SIZE)\n",
        "\n",
        "test_iterator = torch.utils.data.DataLoader(test_data,\n",
        "                                            batch_size=BATCH_SIZE)"
      ]
    },
    {
      "cell_type": "markdown",
      "metadata": {
        "id": "l7LiFnGU1Bg_"
      },
      "source": [
        "**RESNET18**\n",
        "\n",
        "Just optimizing final layer\n"
      ]
    },
    {
      "cell_type": "code",
      "execution_count": 19,
      "metadata": {
        "id": "2j42qMLq0WnG"
      },
      "outputs": [],
      "source": [
        "%%capture\n",
        "resnet18_feat_extract = torch.hub.load('pytorch/vision:v0.10.0', 'resnet18', pretrained=True)"
      ]
    },
    {
      "cell_type": "markdown",
      "metadata": {
        "id": "s18udWuSHvWy"
      },
      "source": [
        "One issue we noticed is that ResNet18 is trained on 224x224 inputs, while CIFAR10 gives 32x32 inputs. \n",
        "\n",
        "This could lead to weaker performance. \n",
        "\n",
        "If we resize to 224x224, we don't gain any new picture information and just stretch the image in ways that don't resemble the number nicely. Therefore, we will rather update the ResNet18 structure such that it can deal with the smaller 32x32 input."
      ]
    },
    {
      "cell_type": "code",
      "execution_count": 20,
      "metadata": {
        "colab": {
          "base_uri": "https://localhost:8080/"
        },
        "id": "dGj0Tqv4HwuU",
        "outputId": "1b358bae-c5dd-4c0b-f9ba-410ebc3bb823"
      },
      "outputs": [
        {
          "name": "stdout",
          "output_type": "stream",
          "text": [
            "ResNet(\n",
            "  (conv1): Conv2d(3, 64, kernel_size=(7, 7), stride=(2, 2), padding=(3, 3), bias=False)\n",
            "  (bn1): BatchNorm2d(64, eps=1e-05, momentum=0.1, affine=True, track_running_stats=True)\n",
            "  (relu): ReLU(inplace=True)\n",
            "  (maxpool): MaxPool2d(kernel_size=3, stride=2, padding=1, dilation=1, ceil_mode=False)\n",
            "  (layer1): Sequential(\n",
            "    (0): BasicBlock(\n",
            "      (conv1): Conv2d(64, 64, kernel_size=(3, 3), stride=(1, 1), padding=(1, 1), bias=False)\n",
            "      (bn1): BatchNorm2d(64, eps=1e-05, momentum=0.1, affine=True, track_running_stats=True)\n",
            "      (relu): ReLU(inplace=True)\n",
            "      (conv2): Conv2d(64, 64, kernel_size=(3, 3), stride=(1, 1), padding=(1, 1), bias=False)\n",
            "      (bn2): BatchNorm2d(64, eps=1e-05, momentum=0.1, affine=True, track_running_stats=True)\n",
            "    )\n",
            "    (1): BasicBlock(\n",
            "      (conv1): Conv2d(64, 64, kernel_size=(3, 3), stride=(1, 1), padding=(1, 1), bias=False)\n",
            "      (bn1): BatchNorm2d(64, eps=1e-05, momentum=0.1, affine=True, track_running_stats=True)\n",
            "      (relu): ReLU(inplace=True)\n",
            "      (conv2): Conv2d(64, 64, kernel_size=(3, 3), stride=(1, 1), padding=(1, 1), bias=False)\n",
            "      (bn2): BatchNorm2d(64, eps=1e-05, momentum=0.1, affine=True, track_running_stats=True)\n",
            "    )\n",
            "  )\n",
            "  (layer2): Sequential(\n",
            "    (0): BasicBlock(\n",
            "      (conv1): Conv2d(64, 128, kernel_size=(3, 3), stride=(2, 2), padding=(1, 1), bias=False)\n",
            "      (bn1): BatchNorm2d(128, eps=1e-05, momentum=0.1, affine=True, track_running_stats=True)\n",
            "      (relu): ReLU(inplace=True)\n",
            "      (conv2): Conv2d(128, 128, kernel_size=(3, 3), stride=(1, 1), padding=(1, 1), bias=False)\n",
            "      (bn2): BatchNorm2d(128, eps=1e-05, momentum=0.1, affine=True, track_running_stats=True)\n",
            "      (downsample): Sequential(\n",
            "        (0): Conv2d(64, 128, kernel_size=(1, 1), stride=(2, 2), bias=False)\n",
            "        (1): BatchNorm2d(128, eps=1e-05, momentum=0.1, affine=True, track_running_stats=True)\n",
            "      )\n",
            "    )\n",
            "    (1): BasicBlock(\n",
            "      (conv1): Conv2d(128, 128, kernel_size=(3, 3), stride=(1, 1), padding=(1, 1), bias=False)\n",
            "      (bn1): BatchNorm2d(128, eps=1e-05, momentum=0.1, affine=True, track_running_stats=True)\n",
            "      (relu): ReLU(inplace=True)\n",
            "      (conv2): Conv2d(128, 128, kernel_size=(3, 3), stride=(1, 1), padding=(1, 1), bias=False)\n",
            "      (bn2): BatchNorm2d(128, eps=1e-05, momentum=0.1, affine=True, track_running_stats=True)\n",
            "    )\n",
            "  )\n",
            "  (layer3): Sequential(\n",
            "    (0): BasicBlock(\n",
            "      (conv1): Conv2d(128, 256, kernel_size=(3, 3), stride=(2, 2), padding=(1, 1), bias=False)\n",
            "      (bn1): BatchNorm2d(256, eps=1e-05, momentum=0.1, affine=True, track_running_stats=True)\n",
            "      (relu): ReLU(inplace=True)\n",
            "      (conv2): Conv2d(256, 256, kernel_size=(3, 3), stride=(1, 1), padding=(1, 1), bias=False)\n",
            "      (bn2): BatchNorm2d(256, eps=1e-05, momentum=0.1, affine=True, track_running_stats=True)\n",
            "      (downsample): Sequential(\n",
            "        (0): Conv2d(128, 256, kernel_size=(1, 1), stride=(2, 2), bias=False)\n",
            "        (1): BatchNorm2d(256, eps=1e-05, momentum=0.1, affine=True, track_running_stats=True)\n",
            "      )\n",
            "    )\n",
            "    (1): BasicBlock(\n",
            "      (conv1): Conv2d(256, 256, kernel_size=(3, 3), stride=(1, 1), padding=(1, 1), bias=False)\n",
            "      (bn1): BatchNorm2d(256, eps=1e-05, momentum=0.1, affine=True, track_running_stats=True)\n",
            "      (relu): ReLU(inplace=True)\n",
            "      (conv2): Conv2d(256, 256, kernel_size=(3, 3), stride=(1, 1), padding=(1, 1), bias=False)\n",
            "      (bn2): BatchNorm2d(256, eps=1e-05, momentum=0.1, affine=True, track_running_stats=True)\n",
            "    )\n",
            "  )\n",
            "  (layer4): Sequential(\n",
            "    (0): BasicBlock(\n",
            "      (conv1): Conv2d(256, 512, kernel_size=(3, 3), stride=(2, 2), padding=(1, 1), bias=False)\n",
            "      (bn1): BatchNorm2d(512, eps=1e-05, momentum=0.1, affine=True, track_running_stats=True)\n",
            "      (relu): ReLU(inplace=True)\n",
            "      (conv2): Conv2d(512, 512, kernel_size=(3, 3), stride=(1, 1), padding=(1, 1), bias=False)\n",
            "      (bn2): BatchNorm2d(512, eps=1e-05, momentum=0.1, affine=True, track_running_stats=True)\n",
            "      (downsample): Sequential(\n",
            "        (0): Conv2d(256, 512, kernel_size=(1, 1), stride=(2, 2), bias=False)\n",
            "        (1): BatchNorm2d(512, eps=1e-05, momentum=0.1, affine=True, track_running_stats=True)\n",
            "      )\n",
            "    )\n",
            "    (1): BasicBlock(\n",
            "      (conv1): Conv2d(512, 512, kernel_size=(3, 3), stride=(1, 1), padding=(1, 1), bias=False)\n",
            "      (bn1): BatchNorm2d(512, eps=1e-05, momentum=0.1, affine=True, track_running_stats=True)\n",
            "      (relu): ReLU(inplace=True)\n",
            "      (conv2): Conv2d(512, 512, kernel_size=(3, 3), stride=(1, 1), padding=(1, 1), bias=False)\n",
            "      (bn2): BatchNorm2d(512, eps=1e-05, momentum=0.1, affine=True, track_running_stats=True)\n",
            "    )\n",
            "  )\n",
            "  (avgpool): AdaptiveAvgPool2d(output_size=(1, 1))\n",
            "  (fc): Linear(in_features=512, out_features=1000, bias=True)\n",
            ")\n"
          ]
        }
      ],
      "source": [
        "print(resnet18_feat_extract)"
      ]
    },
    {
      "cell_type": "code",
      "execution_count": 21,
      "metadata": {
        "id": "pJQki4GpHttR"
      },
      "outputs": [],
      "source": [
        "# We change the STEM block of ResNet : As we already have 32x32 images, we don't want to heavily downsample the spatial dimension (ResNet trained on 224x224)\n",
        "# ResNet18 STEM convolution :  (conv1): Conv2d(3, 64, kernel_size=(7, 7), stride=(2, 2), padding=(3, 3), bias=False)\n",
        "# ResNet18 STEM Pooling : (maxpool): MaxPool2d(kernel_size=3, stride=2, padding=1, dilation=1, ceil_mode=False)\n",
        "# On a 224x224 input :\n",
        "# After STEM convolution, we get ((224-7+2*3)/2) + 1 = 112.5 (rounded 112)\n",
        "# After the pooling we then have ((112-3+2*1)/2) + 1 = 56.5 (rounded 56)\n",
        "# So we have 56x56x64 input\n",
        "# Our original input is 32x32x3 ; as this is already smaller than the hard downsampled variant trained for in ImageNet, we don't want any downsampling in the STEM block\n",
        "# We just need to adjust such that we have the correct depth (64) ; for that, we will use a 3x3 conv layer with stride of 1 and padding of (3-1)/2 = 1 such that we keep the spatial dimension the same\n",
        "# We don't use any pooling!\n",
        "# Furthermore, the ResNet works in stages (blocks) of Conv blocks (with residual connections), that are built such that they keep the spatial dimension the same ; then they double the depth and half the spatial dimension in every new stage\n",
        "# Our ResNet18 has 4 of these stages, i.e. we would go from 32->16->8->4 ; that we can live with (as normally it goes from 56->32->16->8, which is similar enough (just factor 2))\n",
        "# We keep the last pooling layer\n",
        "\n",
        "resnet18_feat_extract.conv1 = nn.Conv2d(3,64, kernel_size=(3,3), stride=(1,1), padding=(1,1), bias=False)\n",
        "resnet18_feat_extract.maxpool = nn.Identity()\n",
        "\n",
        "OUTPUT_DIM = 10\n",
        "num_features = resnet18_feat_extract.fc.in_features # will be the same due to the pooling (i.e. creates 1x1xdepth output and depth is in_features in this case)\n",
        "\n",
        "resnet18_feat_extract.fc = nn.Linear(num_features, 10)"
      ]
    },
    {
      "cell_type": "code",
      "execution_count": 24,
      "metadata": {
        "colab": {
          "base_uri": "https://localhost:8080/"
        },
        "id": "LOal-7PYHRXu",
        "outputId": "7df3e02f-0e3c-411b-e262-d7e167bf39ce"
      },
      "outputs": [
        {
          "name": "stdout",
          "output_type": "stream",
          "text": [
            "ResNet(\n",
            "  (conv1): Conv2d(3, 64, kernel_size=(3, 3), stride=(1, 1), padding=(1, 1), bias=False)\n",
            "  (bn1): BatchNorm2d(64, eps=1e-05, momentum=0.1, affine=True, track_running_stats=True)\n",
            "  (relu): ReLU(inplace=True)\n",
            "  (maxpool): Identity()\n",
            "  (layer1): Sequential(\n",
            "    (0): BasicBlock(\n",
            "      (conv1): Conv2d(64, 64, kernel_size=(3, 3), stride=(1, 1), padding=(1, 1), bias=False)\n",
            "      (bn1): BatchNorm2d(64, eps=1e-05, momentum=0.1, affine=True, track_running_stats=True)\n",
            "      (relu): ReLU(inplace=True)\n",
            "      (conv2): Conv2d(64, 64, kernel_size=(3, 3), stride=(1, 1), padding=(1, 1), bias=False)\n",
            "      (bn2): BatchNorm2d(64, eps=1e-05, momentum=0.1, affine=True, track_running_stats=True)\n",
            "    )\n",
            "    (1): BasicBlock(\n",
            "      (conv1): Conv2d(64, 64, kernel_size=(3, 3), stride=(1, 1), padding=(1, 1), bias=False)\n",
            "      (bn1): BatchNorm2d(64, eps=1e-05, momentum=0.1, affine=True, track_running_stats=True)\n",
            "      (relu): ReLU(inplace=True)\n",
            "      (conv2): Conv2d(64, 64, kernel_size=(3, 3), stride=(1, 1), padding=(1, 1), bias=False)\n",
            "      (bn2): BatchNorm2d(64, eps=1e-05, momentum=0.1, affine=True, track_running_stats=True)\n",
            "    )\n",
            "  )\n",
            "  (layer2): Sequential(\n",
            "    (0): BasicBlock(\n",
            "      (conv1): Conv2d(64, 128, kernel_size=(3, 3), stride=(2, 2), padding=(1, 1), bias=False)\n",
            "      (bn1): BatchNorm2d(128, eps=1e-05, momentum=0.1, affine=True, track_running_stats=True)\n",
            "      (relu): ReLU(inplace=True)\n",
            "      (conv2): Conv2d(128, 128, kernel_size=(3, 3), stride=(1, 1), padding=(1, 1), bias=False)\n",
            "      (bn2): BatchNorm2d(128, eps=1e-05, momentum=0.1, affine=True, track_running_stats=True)\n",
            "      (downsample): Sequential(\n",
            "        (0): Conv2d(64, 128, kernel_size=(1, 1), stride=(2, 2), bias=False)\n",
            "        (1): BatchNorm2d(128, eps=1e-05, momentum=0.1, affine=True, track_running_stats=True)\n",
            "      )\n",
            "    )\n",
            "    (1): BasicBlock(\n",
            "      (conv1): Conv2d(128, 128, kernel_size=(3, 3), stride=(1, 1), padding=(1, 1), bias=False)\n",
            "      (bn1): BatchNorm2d(128, eps=1e-05, momentum=0.1, affine=True, track_running_stats=True)\n",
            "      (relu): ReLU(inplace=True)\n",
            "      (conv2): Conv2d(128, 128, kernel_size=(3, 3), stride=(1, 1), padding=(1, 1), bias=False)\n",
            "      (bn2): BatchNorm2d(128, eps=1e-05, momentum=0.1, affine=True, track_running_stats=True)\n",
            "    )\n",
            "  )\n",
            "  (layer3): Sequential(\n",
            "    (0): BasicBlock(\n",
            "      (conv1): Conv2d(128, 256, kernel_size=(3, 3), stride=(2, 2), padding=(1, 1), bias=False)\n",
            "      (bn1): BatchNorm2d(256, eps=1e-05, momentum=0.1, affine=True, track_running_stats=True)\n",
            "      (relu): ReLU(inplace=True)\n",
            "      (conv2): Conv2d(256, 256, kernel_size=(3, 3), stride=(1, 1), padding=(1, 1), bias=False)\n",
            "      (bn2): BatchNorm2d(256, eps=1e-05, momentum=0.1, affine=True, track_running_stats=True)\n",
            "      (downsample): Sequential(\n",
            "        (0): Conv2d(128, 256, kernel_size=(1, 1), stride=(2, 2), bias=False)\n",
            "        (1): BatchNorm2d(256, eps=1e-05, momentum=0.1, affine=True, track_running_stats=True)\n",
            "      )\n",
            "    )\n",
            "    (1): BasicBlock(\n",
            "      (conv1): Conv2d(256, 256, kernel_size=(3, 3), stride=(1, 1), padding=(1, 1), bias=False)\n",
            "      (bn1): BatchNorm2d(256, eps=1e-05, momentum=0.1, affine=True, track_running_stats=True)\n",
            "      (relu): ReLU(inplace=True)\n",
            "      (conv2): Conv2d(256, 256, kernel_size=(3, 3), stride=(1, 1), padding=(1, 1), bias=False)\n",
            "      (bn2): BatchNorm2d(256, eps=1e-05, momentum=0.1, affine=True, track_running_stats=True)\n",
            "    )\n",
            "  )\n",
            "  (layer4): Sequential(\n",
            "    (0): BasicBlock(\n",
            "      (conv1): Conv2d(256, 512, kernel_size=(3, 3), stride=(2, 2), padding=(1, 1), bias=False)\n",
            "      (bn1): BatchNorm2d(512, eps=1e-05, momentum=0.1, affine=True, track_running_stats=True)\n",
            "      (relu): ReLU(inplace=True)\n",
            "      (conv2): Conv2d(512, 512, kernel_size=(3, 3), stride=(1, 1), padding=(1, 1), bias=False)\n",
            "      (bn2): BatchNorm2d(512, eps=1e-05, momentum=0.1, affine=True, track_running_stats=True)\n",
            "      (downsample): Sequential(\n",
            "        (0): Conv2d(256, 512, kernel_size=(1, 1), stride=(2, 2), bias=False)\n",
            "        (1): BatchNorm2d(512, eps=1e-05, momentum=0.1, affine=True, track_running_stats=True)\n",
            "      )\n",
            "    )\n",
            "    (1): BasicBlock(\n",
            "      (conv1): Conv2d(512, 512, kernel_size=(3, 3), stride=(1, 1), padding=(1, 1), bias=False)\n",
            "      (bn1): BatchNorm2d(512, eps=1e-05, momentum=0.1, affine=True, track_running_stats=True)\n",
            "      (relu): ReLU(inplace=True)\n",
            "      (conv2): Conv2d(512, 512, kernel_size=(3, 3), stride=(1, 1), padding=(1, 1), bias=False)\n",
            "      (bn2): BatchNorm2d(512, eps=1e-05, momentum=0.1, affine=True, track_running_stats=True)\n",
            "    )\n",
            "  )\n",
            "  (avgpool): AdaptiveAvgPool2d(output_size=(1, 1))\n",
            "  (fc): Linear(in_features=512, out_features=10, bias=True)\n",
            ")\n"
          ]
        }
      ],
      "source": [
        "print(resnet18_feat_extract)"
      ]
    },
    {
      "cell_type": "code",
      "execution_count": 25,
      "metadata": {
        "id": "_F3endCw31dm"
      },
      "outputs": [],
      "source": [
        "#https://github.com/kuangliu/pytorch-cifar/blob/master/main.py\n",
        "#optimizer = optim.SGD(resnet18_feat_extract.parameters(), lr=0.1,\n",
        "#                      momentum=0.9, weight_decay=5e-4)\n",
        "# LR scheduler\n",
        "#scheduler = torch.optim.lr_scheduler.CosineAnnealingLR(optimizer, T_max=200) # 200 due to 200 EPOCHS IN PAPER\n",
        "\n",
        "\n",
        "N_EPOCHS = 50\n",
        "\n",
        "\n",
        "# Optimizer\n",
        "optimizer = torch.optim.SGD(resnet18_feat_extract.parameters(),\n",
        "                          lr=0.001,\n",
        "                          momentum=0.9,\n",
        "                          weight_decay=1e-4,\n",
        "                          nesterov=True)\n",
        "\n",
        "\n",
        "# Loss\n",
        "#criterion = nn.CrossEntropyLoss(label_smoothing=0.1)\n",
        "\n",
        "\n",
        "criterion = nn.CrossEntropyLoss() # Softmax + CrossEntropy\n",
        "\n",
        "\n",
        "# Put on GPU\n",
        "criterion = criterion.to(device)\n",
        "resnet18_feat_extract = resnet18_feat_extract.to(device)\n"
      ]
    },
    {
      "cell_type": "code",
      "execution_count": 26,
      "metadata": {
        "colab": {
          "base_uri": "https://localhost:8080/"
        },
        "id": "-pTSmH584AE5",
        "outputId": "a29f3dfa-2a0c-4736-eaba-47f5663fc6a8"
      },
      "outputs": [
        {
          "name": "stdout",
          "output_type": "stream",
          "text": [
            "\n",
            "Epoch: 1/50 -- Epoch Time: 64.36 s\n",
            "---------------------------------\n",
            "Train -- Loss: 1.302, Acc: 54.08%\n",
            "Val -- Loss: 0.786, Acc: 72.79%\n",
            "\n",
            "Epoch: 2/50 -- Epoch Time: 64.10 s\n",
            "---------------------------------\n",
            "Train -- Loss: 0.688, Acc: 76.26%\n",
            "Val -- Loss: 0.513, Acc: 82.29%\n",
            "\n",
            "Epoch: 3/50 -- Epoch Time: 64.23 s\n",
            "---------------------------------\n",
            "Train -- Loss: 0.496, Acc: 82.79%\n",
            "Val -- Loss: 0.376, Acc: 86.81%\n",
            "\n",
            "Epoch: 4/50 -- Epoch Time: 64.52 s\n",
            "---------------------------------\n",
            "Train -- Loss: 0.393, Acc: 86.41%\n",
            "Val -- Loss: 0.301, Acc: 89.58%\n",
            "\n",
            "Epoch: 5/50 -- Epoch Time: 64.66 s\n",
            "---------------------------------\n",
            "Train -- Loss: 0.324, Acc: 88.80%\n",
            "Val -- Loss: 0.246, Acc: 91.44%\n",
            "\n",
            "Epoch: 6/50 -- Epoch Time: 64.79 s\n",
            "---------------------------------\n",
            "Train -- Loss: 0.277, Acc: 90.37%\n",
            "Val -- Loss: 0.207, Acc: 92.74%\n",
            "\n",
            "Epoch: 7/50 -- Epoch Time: 64.19 s\n",
            "---------------------------------\n",
            "Train -- Loss: 0.241, Acc: 91.75%\n",
            "Val -- Loss: 0.178, Acc: 93.81%\n",
            "\n",
            "Epoch: 8/50 -- Epoch Time: 64.17 s\n",
            "---------------------------------\n",
            "Train -- Loss: 0.212, Acc: 92.67%\n",
            "Val -- Loss: 0.158, Acc: 94.55%\n",
            "\n",
            "Epoch: 9/50 -- Epoch Time: 64.11 s\n",
            "---------------------------------\n",
            "Train -- Loss: 0.193, Acc: 93.33%\n",
            "Val -- Loss: 0.141, Acc: 95.04%\n",
            "\n",
            "Epoch: 10/50 -- Epoch Time: 63.93 s\n",
            "---------------------------------\n",
            "Train -- Loss: 0.171, Acc: 94.11%\n",
            "Val -- Loss: 0.126, Acc: 95.72%\n",
            "\n",
            "Epoch: 11/50 -- Epoch Time: 64.48 s\n",
            "---------------------------------\n",
            "Train -- Loss: 0.153, Acc: 94.79%\n",
            "Val -- Loss: 0.111, Acc: 96.15%\n",
            "\n",
            "Epoch: 12/50 -- Epoch Time: 63.98 s\n",
            "---------------------------------\n",
            "Train -- Loss: 0.140, Acc: 95.16%\n",
            "Val -- Loss: 0.100, Acc: 96.71%\n",
            "\n",
            "Epoch: 13/50 -- Epoch Time: 64.17 s\n",
            "---------------------------------\n",
            "Train -- Loss: 0.129, Acc: 95.56%\n",
            "Val -- Loss: 0.089, Acc: 97.05%\n",
            "\n",
            "Epoch: 14/50 -- Epoch Time: 64.12 s\n",
            "---------------------------------\n",
            "Train -- Loss: 0.118, Acc: 95.94%\n",
            "Val -- Loss: 0.081, Acc: 97.44%\n",
            "\n",
            "Epoch: 15/50 -- Epoch Time: 64.15 s\n",
            "---------------------------------\n",
            "Train -- Loss: 0.107, Acc: 96.38%\n",
            "Val -- Loss: 0.072, Acc: 97.63%\n",
            "\n",
            "Epoch: 16/50 -- Epoch Time: 64.30 s\n",
            "---------------------------------\n",
            "Train -- Loss: 0.096, Acc: 96.72%\n",
            "Val -- Loss: 0.064, Acc: 97.83%\n",
            "\n",
            "Epoch: 17/50 -- Epoch Time: 63.96 s\n",
            "---------------------------------\n",
            "Train -- Loss: 0.092, Acc: 96.82%\n",
            "Val -- Loss: 0.058, Acc: 98.29%\n",
            "\n",
            "Epoch: 18/50 -- Epoch Time: 64.19 s\n",
            "---------------------------------\n",
            "Train -- Loss: 0.083, Acc: 97.11%\n",
            "Val -- Loss: 0.053, Acc: 98.18%\n",
            "\n",
            "Epoch: 19/50 -- Epoch Time: 63.98 s\n",
            "---------------------------------\n",
            "Train -- Loss: 0.076, Acc: 97.44%\n",
            "Val -- Loss: 0.048, Acc: 98.50%\n",
            "\n",
            "Epoch: 20/50 -- Epoch Time: 64.60 s\n",
            "---------------------------------\n",
            "Train -- Loss: 0.071, Acc: 97.54%\n",
            "Val -- Loss: 0.042, Acc: 98.69%\n",
            "\n",
            "Epoch: 21/50 -- Epoch Time: 64.46 s\n",
            "---------------------------------\n",
            "Train -- Loss: 0.066, Acc: 97.76%\n",
            "Val -- Loss: 0.039, Acc: 98.80%\n",
            "\n",
            "Epoch: 22/50 -- Epoch Time: 64.58 s\n",
            "---------------------------------\n",
            "Train -- Loss: 0.062, Acc: 97.90%\n",
            "Val -- Loss: 0.034, Acc: 98.95%\n",
            "\n",
            "Epoch: 23/50 -- Epoch Time: 64.17 s\n",
            "---------------------------------\n",
            "Train -- Loss: 0.055, Acc: 98.20%\n",
            "Val -- Loss: 0.033, Acc: 98.99%\n",
            "\n",
            "Epoch: 24/50 -- Epoch Time: 64.21 s\n",
            "---------------------------------\n",
            "Train -- Loss: 0.053, Acc: 98.24%\n",
            "Val -- Loss: 0.029, Acc: 99.14%\n",
            "\n",
            "Epoch: 25/50 -- Epoch Time: 64.59 s\n",
            "---------------------------------\n",
            "Train -- Loss: 0.049, Acc: 98.32%\n",
            "Val -- Loss: 0.027, Acc: 99.16%\n",
            "\n",
            "Epoch: 26/50 -- Epoch Time: 64.27 s\n",
            "---------------------------------\n",
            "Train -- Loss: 0.047, Acc: 98.49%\n",
            "Val -- Loss: 0.024, Acc: 99.37%\n",
            "\n",
            "Epoch: 27/50 -- Epoch Time: 64.28 s\n",
            "---------------------------------\n",
            "Train -- Loss: 0.042, Acc: 98.63%\n",
            "Val -- Loss: 0.023, Acc: 99.30%\n",
            "\n",
            "Epoch: 28/50 -- Epoch Time: 63.93 s\n",
            "---------------------------------\n",
            "Train -- Loss: 0.041, Acc: 98.70%\n",
            "Val -- Loss: 0.021, Acc: 99.52%\n",
            "\n",
            "Epoch: 29/50 -- Epoch Time: 64.51 s\n",
            "---------------------------------\n",
            "Train -- Loss: 0.038, Acc: 98.77%\n",
            "Val -- Loss: 0.018, Acc: 99.60%\n",
            "\n",
            "Epoch: 30/50 -- Epoch Time: 66.61 s\n",
            "---------------------------------\n",
            "Train -- Loss: 0.036, Acc: 98.87%\n",
            "Val -- Loss: 0.018, Acc: 99.50%\n",
            "\n",
            "Epoch: 31/50 -- Epoch Time: 64.40 s\n",
            "---------------------------------\n",
            "Train -- Loss: 0.033, Acc: 98.97%\n",
            "Val -- Loss: 0.015, Acc: 99.60%\n",
            "\n",
            "Epoch: 32/50 -- Epoch Time: 64.20 s\n",
            "---------------------------------\n",
            "Train -- Loss: 0.032, Acc: 98.96%\n",
            "Val -- Loss: 0.014, Acc: 99.67%\n",
            "\n",
            "Epoch: 33/50 -- Epoch Time: 63.86 s\n",
            "---------------------------------\n",
            "Train -- Loss: 0.030, Acc: 99.05%\n",
            "Val -- Loss: 0.013, Acc: 99.69%\n",
            "\n",
            "Epoch: 34/50 -- Epoch Time: 64.36 s\n",
            "---------------------------------\n",
            "Train -- Loss: 0.029, Acc: 99.08%\n",
            "Val -- Loss: 0.014, Acc: 99.65%\n",
            "\n",
            "Epoch: 35/50 -- Epoch Time: 64.06 s\n",
            "---------------------------------\n",
            "Train -- Loss: 0.026, Acc: 99.18%\n",
            "Val -- Loss: 0.012, Acc: 99.66%\n",
            "\n",
            "Epoch: 36/50 -- Epoch Time: 63.82 s\n",
            "---------------------------------\n",
            "Train -- Loss: 0.026, Acc: 99.20%\n",
            "Val -- Loss: 0.012, Acc: 99.68%\n",
            "\n",
            "Epoch: 37/50 -- Epoch Time: 64.23 s\n",
            "---------------------------------\n",
            "Train -- Loss: 0.025, Acc: 99.21%\n",
            "Val -- Loss: 0.011, Acc: 99.72%\n",
            "\n",
            "Epoch: 38/50 -- Epoch Time: 64.76 s\n",
            "---------------------------------\n",
            "Train -- Loss: 0.024, Acc: 99.28%\n",
            "Val -- Loss: 0.010, Acc: 99.78%\n",
            "\n",
            "Epoch: 39/50 -- Epoch Time: 65.20 s\n",
            "---------------------------------\n",
            "Train -- Loss: 0.022, Acc: 99.33%\n",
            "Val -- Loss: 0.009, Acc: 99.84%\n",
            "\n",
            "Epoch: 40/50 -- Epoch Time: 64.57 s\n",
            "---------------------------------\n",
            "Train -- Loss: 0.020, Acc: 99.43%\n",
            "Val -- Loss: 0.008, Acc: 99.90%\n",
            "\n",
            "Epoch: 41/50 -- Epoch Time: 64.42 s\n",
            "---------------------------------\n",
            "Train -- Loss: 0.018, Acc: 99.46%\n",
            "Val -- Loss: 0.008, Acc: 99.85%\n",
            "\n",
            "Epoch: 42/50 -- Epoch Time: 64.72 s\n",
            "---------------------------------\n",
            "Train -- Loss: 0.019, Acc: 99.42%\n",
            "Val -- Loss: 0.009, Acc: 99.80%\n",
            "\n",
            "Epoch: 43/50 -- Epoch Time: 64.74 s\n",
            "---------------------------------\n",
            "Train -- Loss: 0.018, Acc: 99.47%\n",
            "Val -- Loss: 0.006, Acc: 99.91%\n",
            "\n",
            "Epoch: 44/50 -- Epoch Time: 63.99 s\n",
            "---------------------------------\n",
            "Train -- Loss: 0.017, Acc: 99.50%\n",
            "Val -- Loss: 0.007, Acc: 99.91%\n",
            "\n",
            "Epoch: 45/50 -- Epoch Time: 63.80 s\n",
            "---------------------------------\n",
            "Train -- Loss: 0.016, Acc: 99.51%\n",
            "Val -- Loss: 0.007, Acc: 99.88%\n",
            "\n",
            "Epoch: 46/50 -- Epoch Time: 63.82 s\n",
            "---------------------------------\n",
            "Train -- Loss: 0.015, Acc: 99.57%\n",
            "Val -- Loss: 0.006, Acc: 99.89%\n",
            "\n",
            "Epoch: 47/50 -- Epoch Time: 64.18 s\n",
            "---------------------------------\n",
            "Train -- Loss: 0.015, Acc: 99.55%\n",
            "Val -- Loss: 0.006, Acc: 99.87%\n",
            "\n",
            "Epoch: 48/50 -- Epoch Time: 64.15 s\n",
            "---------------------------------\n",
            "Train -- Loss: 0.014, Acc: 99.63%\n",
            "Val -- Loss: 0.005, Acc: 99.89%\n",
            "\n",
            "Epoch: 49/50 -- Epoch Time: 64.10 s\n",
            "---------------------------------\n",
            "Train -- Loss: 0.014, Acc: 99.59%\n",
            "Val -- Loss: 0.005, Acc: 99.93%\n",
            "\n",
            "Epoch: 50/50 -- Epoch Time: 63.88 s\n",
            "---------------------------------\n",
            "Train -- Loss: 0.014, Acc: 99.63%\n",
            "Val -- Loss: 0.006, Acc: 99.83%\n"
          ]
        }
      ],
      "source": [
        "\n",
        "train_losses_resnet18_feat_extract, train_accs_resnet18_feat_extract, valid_losses_resnet18_feat_extract, valid_accs_resnet18_feat_extract = model_training(N_EPOCHS,\n",
        "                                                                                                                            resnet18_feat_extract,\n",
        "                                                                                                                            train_iterator,\n",
        "                                                                                                                            valid_iterator,\n",
        "                                                                                                                            optimizer,\n",
        "                                                                                                                            criterion,\n",
        "                                                                                                                            device,\n",
        "                                                                                                                            'resnet18_feat_extract.pt')"
      ]
    },
    {
      "cell_type": "code",
      "execution_count": 27,
      "metadata": {
        "colab": {
          "base_uri": "https://localhost:8080/",
          "height": 516
        },
        "id": "ZNWjYg_V6pHz",
        "outputId": "ee7631b3-6f86-43c7-a789-f3a2dffbbfaa"
      },
      "outputs": [
        {
          "data": {
            "image/png": "[encoded data removed]",
            "text/plain": [
              "<Figure size 2000x600 with 2 Axes>"
            ]
          },
          "metadata": {},
          "output_type": "display_data"
        }
      ],
      "source": [
        "plot_results(N_EPOCHS, train_losses_resnet18_feat_extract, train_accs_resnet18_feat_extract, valid_losses_resnet18_feat_extract, valid_accs_resnet18_feat_extract)"
      ]
    },
    {
      "cell_type": "code",
      "execution_count": 28,
      "metadata": {
        "colab": {
          "base_uri": "https://localhost:8080/"
        },
        "id": "UOpU0D9q7D1x",
        "outputId": "3a91f339-914c-4337-ea00-3404dec6d4ce"
      },
      "outputs": [
        {
          "name": "stderr",
          "output_type": "stream",
          "text": [
            "<ipython-input-10-21ae8c846887>:3: FutureWarning: You are using `torch.load` with `weights_only=False` (the current default value), which uses the default pickle module implicitly. It is possible to construct malicious pickle data which will execute arbitrary code during unpickling (See https://github.com/pytorch/pytorch/blob/main/SECURITY.md#untrusted-models for more details). In a future release, the default value for `weights_only` will be flipped to `True`. This limits the functions that could be executed during unpickling. Arbitrary objects will no longer be allowed to be loaded via this mode unless they are explicitly allowlisted by the user via `torch.serialization.add_safe_globals`. We recommend you start setting `weights_only=True` for any use case where you don't have full control of the loaded file. Please open an issue on GitHub for any issues related to this experimental feature.\n",
            "  model.load_state_dict(torch.load(model_name))\n"
          ]
        },
        {
          "name": "stdout",
          "output_type": "stream",
          "text": [
            "Test -- Loss: 0.219, Acc: 94.62 %\n"
          ]
        }
      ],
      "source": [
        "model_testing(resnet18_feat_extract, test_iterator, criterion, device, 'resnet18_feat_extract.pt')"
      ]
    },
    {
      "cell_type": "code",
      "execution_count": 29,
      "metadata": {
        "colab": {
          "base_uri": "https://localhost:8080/"
        },
        "id": "vYGANsy07NSc",
        "outputId": "1c097763-128e-42c2-e1f7-38c82e5f4c64"
      },
      "outputs": [
        {
          "name": "stdout",
          "output_type": "stream",
          "text": [
            "[[959   2  11   4   1   0   0   1  18   4]\n",
            " [  2 974   0   0   0   0   0   0   1  23]\n",
            " [  8   0 943   5  15  15  11   1   2   0]\n",
            " [  5   0  11 868  16  71  17   5   3   4]\n",
            " [  1   0   7  10 957   8  11   6   0   0]\n",
            " [  0   0   7  61   9 909   5   6   1   2]\n",
            " [  2   1   6  11   2   0 976   0   0   2]\n",
            " [  2   1   5   8  13  12   1 958   0   0]\n",
            " [ 19   6   2   1   1   0   2   0 962   7]\n",
            " [  6  25   0   2   0   0   0   1   2 964]]\n",
            "\n",
            "\n",
            "              precision    recall  f1-score   support\n",
            "\n",
            "           0       0.96      0.96      0.96      1000\n",
            "           1       0.97      0.97      0.97      1000\n",
            "           2       0.95      0.94      0.95      1000\n",
            "           3       0.89      0.87      0.88      1000\n",
            "           4       0.94      0.96      0.95      1000\n",
            "           5       0.90      0.91      0.90      1000\n",
            "           6       0.95      0.98      0.96      1000\n",
            "           7       0.98      0.96      0.97      1000\n",
            "           8       0.97      0.96      0.97      1000\n",
            "           9       0.96      0.96      0.96      1000\n",
            "\n",
            "    accuracy                           0.95     10000\n",
            "   macro avg       0.95      0.95      0.95     10000\n",
            "weighted avg       0.95      0.95      0.95     10000\n",
            "\n"
          ]
        }
      ],
      "source": [
        "print_report(resnet18_feat_extract, test_iterator, device)"
      ]
    }
  ],
  "metadata": {
    "accelerator": "GPU",
    "colab": {
      "gpuType": "T4",
      "provenance": []
    },
    "kernelspec": {
      "display_name": "Python 3",
      "name": "python3"
    },
    "language_info": {
      "codemirror_mode": {
        "name": "ipython",
        "version": 3
      },
      "file_extension": ".py",
      "mimetype": "text/x-python",
      "name": "python",
      "nbconvert_exporter": "python",
      "pygments_lexer": "ipython3",
      "version": "3.8.10"
    }
  },
  "nbformat": 4,
  "nbformat_minor": 0
}
